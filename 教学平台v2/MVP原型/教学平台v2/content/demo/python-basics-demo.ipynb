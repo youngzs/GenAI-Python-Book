{
  "cells": [
    {
      "cell_type": "markdown",
      "metadata": {},
      "source": [
        "# Python基础教程演示\n",
        "\n",
        "这是一个基于nbgrader的Python教学演示。\n",
        "\n",
        "## 学习目标\n",
        "- 理解变量的使用\n",
        "- 掌握基本的数据类型\n",
        "- 学会使用print函数"
      ]
    },
    {
      "cell_type": "markdown",
      "metadata": {},
      "source": [
        "## 练习1: 变量定义\n",
        "\n",
        "请定义一个变量`name`，并赋值为你的姓名："
      ]
    },
    {
      "cell_type": "code",
      "execution_count": null,
      "metadata": {
        "nbgrader": {
          "grade": false,
          "grade_id": "exercise_1",
          "locked": false,
          "schema_version": 3,
          "solution": true
        }
      },
      "outputs": [],
      "source": [
        "# 请在这里定义变量name\n",
        "# YOUR CODE HERE\n",
        "name = \"请输入你的姓名\""
      ]
    },
    {
      "cell_type": "code",
      "execution_count": null,
      "metadata": {
        "nbgrader": {
          "grade": true,
          "grade_id": "test_exercise_1",
          "locked": true,
          "points": 5,
          "schema_version": 3,
          "solution": false
        }
      },
      "outputs": [],
      "source": [
        "# 测试用例\n",
        "assert isinstance(name, str), \"name应该是字符串类型\"\n",
        "assert len(name) > 0, \"name不能为空\"\n",
        "print(f\"✓ 测试通过! 你好，{name}！\")"
      ]
    }
  ],
  "metadata": {
    "kernelspec": {
      "display_name": "Python 3",
      "language": "python",
      "name": "python3"
    },
    "language_info": {
      "name": "python",
      "version": "3.8.5"
    }
  },
  "nbformat": 4,
  "nbformat_minor": 4
}